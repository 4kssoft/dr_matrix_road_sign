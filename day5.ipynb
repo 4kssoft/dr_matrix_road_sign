{
  "nbformat": 4,
  "nbformat_minor": 0,
  "metadata": {
    "colab": {
      "name": "day5.ipynb",
      "provenance": [],
      "collapsed_sections": [],
      "mount_file_id": "1pEUUSdYg0zkCf91O2NrEzxlLBmTei45E",
      "authorship_tag": "ABX9TyO3gE7RixsEaR84kwsBBQwj"
    },
    "kernelspec": {
      "name": "python3",
      "display_name": "Python 3"
    },
    "accelerator": "GPU"
  },
  "cells": [
    {
      "cell_type": "code",
      "metadata": {
        "id": "N6FPF4kc4kv0",
        "colab_type": "code",
        "colab": {}
      },
      "source": [
        "!pip install hyperopt"
      ],
      "execution_count": 0,
      "outputs": []
    },
    {
      "cell_type": "code",
      "metadata": {
        "id": "m1YfGlWv6ENX",
        "colab_type": "code",
        "colab": {
          "base_uri": "https://localhost:8080/",
          "height": 51
        },
        "outputId": "6d9c065c-0c65-42cc-fcb7-d8a14a936017"
      },
      "source": [
        "import pandas as pd\n",
        "import numpy as np\n",
        "import matplotlib.pyplot as plt\n",
        "from skimage import  color, exposure\n",
        "\n",
        "import tensorflow as tf\n",
        "\n",
        "from tensorflow.keras.layers import Conv2D, Flatten, MaxPool2D, Dense, Dropout\n",
        "from tensorflow.keras.models import Sequential\n",
        "from tensorflow.keras.utils import  to_categorical\n",
        "\n",
        "import os, datetime\n",
        "from sklearn.metrics import  accuracy_score\n",
        "\n",
        "from hyperopt import  STATUS_OK, fmin, hp, Trials, tpe\n",
        "%load_ext tensorboard"
      ],
      "execution_count": 12,
      "outputs": [
        {
          "output_type": "stream",
          "text": [
            "The tensorboard extension is already loaded. To reload it, use:\n",
            "  %reload_ext tensorboard\n"
          ],
          "name": "stdout"
        }
      ]
    },
    {
      "cell_type": "code",
      "metadata": {
        "id": "32VcwWyL6Zzz",
        "colab_type": "code",
        "colab": {
          "base_uri": "https://localhost:8080/",
          "height": 34
        },
        "outputId": "64f0d294-c1bd-4807-9124-d00558d8b311"
      },
      "source": [
        "cd  \"/content/drive/My Drive/Colab Notebooks/matrix/matrix_three/dw_matrix_road_sign\""
      ],
      "execution_count": 6,
      "outputs": [
        {
          "output_type": "stream",
          "text": [
            "/content/drive/My Drive/Colab Notebooks/matrix/matrix_three/dw_matrix_road_sign\n"
          ],
          "name": "stdout"
        }
      ]
    },
    {
      "cell_type": "code",
      "metadata": {
        "id": "eSMNQd6H6bwD",
        "colab_type": "code",
        "colab": {
          "base_uri": "https://localhost:8080/",
          "height": 34
        },
        "outputId": "56727a44-d1fd-478e-9515-f971513d5e94"
      },
      "source": [
        "train = pd.read_pickle('data/train.p')\n",
        "X_train, y_train = train['features'], train['labels']\n",
        "\n",
        "test = pd.read_pickle('data/test.p')\n",
        "X_test, y_test = test['features'], test['labels']\n",
        "\n",
        "X_train.shape, y_train.shape, X_test.shape, y_test.shape"
      ],
      "execution_count": 7,
      "outputs": [
        {
          "output_type": "execute_result",
          "data": {
            "text/plain": [
              "((34799, 32, 32, 3), (34799,), (4410, 32, 32, 3), (4410,))"
            ]
          },
          "metadata": {
            "tags": []
          },
          "execution_count": 7
        }
      ]
    },
    {
      "cell_type": "code",
      "metadata": {
        "id": "A_JUff386dQd",
        "colab_type": "code",
        "colab": {
          "base_uri": "https://localhost:8080/",
          "height": 34
        },
        "outputId": "2e5d3220-edc5-4a3b-b1e6-ce9ad6fc28ef"
      },
      "source": [
        "if y_train.ndim == 1: y_train  = to_categorical(y_train)\n",
        "if y_test.ndim == 1: y_test = to_categorical(y_test)\n",
        "\n",
        "input_shape = X_train.shape[1:]\n",
        "num_classes = y_train.shape[1]\n",
        "input_shape, num_classes"
      ],
      "execution_count": 8,
      "outputs": [
        {
          "output_type": "execute_result",
          "data": {
            "text/plain": [
              "((32, 32, 3), 43)"
            ]
          },
          "metadata": {
            "tags": []
          },
          "execution_count": 8
        }
      ]
    },
    {
      "cell_type": "code",
      "metadata": {
        "id": "F-cmA9y-8aLQ",
        "colab_type": "code",
        "colab": {}
      },
      "source": [
        "def get_cnn_v5(input_shape, num_classes):\n",
        "  return Sequential([\n",
        "    Conv2D(filters=32, kernel_size=(3, 3), activation=\"relu\", input_shape=input_shape),\n",
        "    Conv2D(filters=32, kernel_size=(3, 3), activation=\"relu\", padding='same'),    \n",
        "    MaxPool2D(),\n",
        "    Dropout(0.3),\n",
        "\n",
        "    Conv2D(filters=64, kernel_size=(3, 3), activation=\"relu\", padding='same'),\n",
        "    Conv2D(filters=64, kernel_size=(3, 3), activation=\"relu\"),\n",
        "    MaxPool2D(),    \n",
        "    Dropout(0.3),\n",
        "\n",
        "    Conv2D(filters=64, kernel_size=(3, 3), activation=\"relu\", padding='same'),\n",
        "    Conv2D(filters=64, kernel_size=(3, 3), activation=\"relu\"),\n",
        "    MaxPool2D(),    \n",
        "    Dropout(0.3),\n",
        "\n",
        "    Flatten(),\n",
        "\n",
        "    Dense(1024, activation='relu'),\n",
        "    Dropout(0.3),\n",
        "    \n",
        "    Dense(1024, activation='relu'),\n",
        "    Dropout(0.3),\n",
        "    Dense(num_classes, activation='softmax')\n",
        "  ])\n",
        "\n",
        "def predict(model, X_test, y_test, scoring=accuracy_score):\n",
        "  y_test_norm = np.argmax(y_test, axis=1)\n",
        "  y_pred_prob = model.predict(X_test)\n",
        "  y_pred = np.argmax(y_pred_prob, axis=1)\n",
        "  return scoring(y_test_norm, y_pred)\n",
        "\n",
        "def train_model(model, X_train, y_train, params_fit={}):\n",
        "  model.compile(loss='categorical_crossentropy',optimizer='Adam', metrics=['accuracy'])\n",
        "\n",
        "  logdir = os.path.join('logs', datetime.datetime.now().strftime('%Y%m%d-%H%M%S'))\n",
        "  tensorboard_callback = tf.keras.callbacks.TensorBoard(logdir, histogram_freq=1)\n",
        "  model.fit(\n",
        "      X_train, \n",
        "      y_train,\n",
        "      batch_size=params_fit.get('batch_size', 128),\n",
        "      epochs=params_fit.get('epochs', 5),\n",
        "      verbose=params_fit.get('verbose', 1),\n",
        "      validation_data=params_fit.get('validation_data', (X_train, y_train)),\n",
        "      callbacks=[tensorboard_callback]\n",
        "      )\n",
        "  return model"
      ],
      "execution_count": 0,
      "outputs": []
    },
    {
      "cell_type": "code",
      "metadata": {
        "id": "6ch9EJIj8qq0",
        "colab_type": "code",
        "colab": {
          "base_uri": "https://localhost:8080/",
          "height": 204
        },
        "outputId": "138d97fa-7875-4f26-8a55-6da1b7713212"
      },
      "source": [
        "model = get_cnn_v5(input_shape, num_classes)\n",
        "model_trained = train_model(model, X_train, y_train)\n",
        "predict(model_trained, X_test, y_test)"
      ],
      "execution_count": 10,
      "outputs": [
        {
          "output_type": "stream",
          "text": [
            "Epoch 1/5\n",
            "272/272 [==============================] - 7s 24ms/step - loss: 2.7027 - accuracy: 0.2683 - val_loss: 1.0444 - val_accuracy: 0.6509\n",
            "Epoch 2/5\n",
            "272/272 [==============================] - 6s 22ms/step - loss: 0.8796 - accuracy: 0.7198 - val_loss: 0.2672 - val_accuracy: 0.9156\n",
            "Epoch 3/5\n",
            "272/272 [==============================] - 6s 22ms/step - loss: 0.4332 - accuracy: 0.8627 - val_loss: 0.1252 - val_accuracy: 0.9652\n",
            "Epoch 4/5\n",
            "272/272 [==============================] - 6s 22ms/step - loss: 0.2944 - accuracy: 0.9099 - val_loss: 0.0803 - val_accuracy: 0.9785\n",
            "Epoch 5/5\n",
            "272/272 [==============================] - 6s 22ms/step - loss: 0.2173 - accuracy: 0.9341 - val_loss: 0.0489 - val_accuracy: 0.9853\n"
          ],
          "name": "stdout"
        },
        {
          "output_type": "execute_result",
          "data": {
            "text/plain": [
              "0.9666666666666667"
            ]
          },
          "metadata": {
            "tags": []
          },
          "execution_count": 10
        }
      ]
    },
    {
      "cell_type": "code",
      "metadata": {
        "id": "AD3S6eGtFUET",
        "colab_type": "code",
        "colab": {}
      },
      "source": [
        "def get_model(params):\n",
        "  return Sequential([\n",
        "    Conv2D(filters=32, kernel_size=(3, 3), activation=\"relu\", input_shape=input_shape),\n",
        "    Conv2D(filters=32, kernel_size=(3, 3), activation=\"relu\", padding='same'),\n",
        "    Conv2D(filters=32, kernel_size=(3, 3), activation=\"relu\", padding='same'),\n",
        "    \n",
        "    MaxPool2D(),\n",
        "    Dropout(params['dropout_cnn_block_one']),\n",
        "\n",
        "    Conv2D(filters=64, kernel_size=(3, 3), activation=\"relu\", padding='same'),\n",
        "    Conv2D(filters=64, kernel_size=(3, 3), activation=\"relu\", padding='same'),\n",
        "    Conv2D(filters=64, kernel_size=(3, 3), activation=\"relu\"),\n",
        "    MaxPool2D(),    \n",
        "    Dropout(params['dropout_cnn_block_two']),\n",
        "\n",
        "    Conv2D(filters=128, kernel_size=(3, 3), activation=\"relu\", padding='same'),\n",
        "    Conv2D(filters=128, kernel_size=(3, 3), activation=\"relu\", padding='same'),\n",
        "    Conv2D(filters=128, kernel_size=(3, 3), activation=\"relu\"),\n",
        "    MaxPool2D(),    \n",
        "    Dropout(params['dropout_cnn_block_three']),\n",
        "\n",
        "    Flatten(),\n",
        "\n",
        "    Dense(1024, activation='relu'),\n",
        "    Dropout(params['dropout_dens_block_one']),\n",
        "    \n",
        "    Dense(1024, activation='relu'),\n",
        "    Dropout(params['dropout_dens_block_two']),\n",
        "    Dense(num_classes, activation='softmax')\n",
        "  ])\n"
      ],
      "execution_count": 0,
      "outputs": []
    },
    {
      "cell_type": "code",
      "metadata": {
        "id": "ES38yvkB-QNc",
        "colab_type": "code",
        "colab": {}
      },
      "source": [
        "def func_obj(params):\n",
        "  model = get_model(params)\n",
        "  model.compile(loss='categorical_crossentropy',optimizer='Adam', metrics=['accuracy'])\n",
        "\n",
        "  \n",
        "  model.fit(\n",
        "      X_train, \n",
        "      y_train,\n",
        "      batch_size=int(params.get('batch_size', 128)),\n",
        "      epochs=5,\n",
        "      verbose=0\n",
        "      )\n",
        "  score = model.evaluate(X_test, y_test, verbose=0)\n",
        "  accuracy = score[1]\n",
        "  print(params, 'accuracy: {}'.format(accuracy))\n",
        "  return {'loss': -accuracy, 'status': STATUS_OK, 'model': model}"
      ],
      "execution_count": 0,
      "outputs": []
    },
    {
      "cell_type": "code",
      "metadata": {
        "id": "XfdBnE-vD-TW",
        "colab_type": "code",
        "colab": {
          "base_uri": "https://localhost:8080/",
          "height": 734
        },
        "outputId": "372b85c5-bb5c-44ed-b132-a25f8b7223c6"
      },
      "source": [
        "space = {\n",
        "    'batch_size': hp.quniform('batch_size',50, 200, 20),\n",
        "    'dropout_cnn_block_one': hp.uniform('dropout_cnn_block_one',.2, .5),\n",
        "    'dropout_cnn_block_two': hp.uniform('dropout_cnn_block_two',.2, .5),\n",
        "    'dropout_cnn_block_three': hp.uniform('dropout_cnn_block_three',.2, .5),\n",
        "    'dropout_dens_block_one': hp.uniform('dropout_dens_block_one',.3, .7),\n",
        "    'dropout_dens_block_two': hp.uniform('dropout_dens_block_two',.3, .7)\n",
        "}\n",
        "\n",
        "best = fmin(func_obj, space, tpe.suggest, 20, Trials())"
      ],
      "execution_count": 36,
      "outputs": [
        {
          "output_type": "stream",
          "text": [
            "{'batch_size': 180.0, 'dropout_cnn_block_one': 0.4787583882626281, 'dropout_cnn_block_three': 0.25862405268433813, 'dropout_cnn_block_two': 0.25105903619533476, 'dropout_dens_block_one': 0.4482447491620546, 'dropout_dens_block_two': 0.5345086792302748}\n",
            "accuracy: 0.9666666388511658\n",
            "{'batch_size': 60.0, 'dropout_cnn_block_one': 0.2919421867396337, 'dropout_cnn_block_three': 0.39764996978270684, 'dropout_cnn_block_two': 0.4884942241354754, 'dropout_dens_block_one': 0.6218715550517919, 'dropout_dens_block_two': 0.6001435774695829}\n",
            "accuracy: 0.9383220076560974\n",
            "{'batch_size': 200.0, 'dropout_cnn_block_one': 0.4550369429397391, 'dropout_cnn_block_three': 0.3240822821339045, 'dropout_cnn_block_two': 0.20051402150818154, 'dropout_dens_block_one': 0.62710209686346, 'dropout_dens_block_two': 0.5082758681495602}\n",
            "accuracy: 0.9507936239242554\n",
            "{'batch_size': 140.0, 'dropout_cnn_block_one': 0.4828003490416043, 'dropout_cnn_block_three': 0.263020974630871, 'dropout_cnn_block_two': 0.40930792271757843, 'dropout_dens_block_one': 0.45217387628671235, 'dropout_dens_block_two': 0.37383962955502437}\n",
            "accuracy: 0.9743764400482178\n",
            "{'batch_size': 60.0, 'dropout_cnn_block_one': 0.39809664478715223, 'dropout_cnn_block_three': 0.42910307320637575, 'dropout_cnn_block_two': 0.42855383633411936, 'dropout_dens_block_one': 0.5172337419292423, 'dropout_dens_block_two': 0.6437160395680264}\n",
            "accuracy: 0.9145124554634094\n",
            "{'batch_size': 100.0, 'dropout_cnn_block_one': 0.3946288062685866, 'dropout_cnn_block_three': 0.31407001866269574, 'dropout_cnn_block_two': 0.425774871443505, 'dropout_dens_block_one': 0.4529228685146634, 'dropout_dens_block_two': 0.3616445889095064}\n",
            "accuracy: 0.9553288221359253\n",
            "{'batch_size': 180.0, 'dropout_cnn_block_one': 0.49132808984856574, 'dropout_cnn_block_three': 0.29369617577718815, 'dropout_cnn_block_two': 0.2504814220979536, 'dropout_dens_block_one': 0.6896990175006721, 'dropout_dens_block_two': 0.6418268167273253}\n",
            "accuracy: 0.8870748281478882\n",
            "{'batch_size': 120.0, 'dropout_cnn_block_one': 0.3286555088422357, 'dropout_cnn_block_three': 0.4949369711856256, 'dropout_cnn_block_two': 0.41708918609468826, 'dropout_dens_block_one': 0.6245285520003436, 'dropout_dens_block_two': 0.4464062600647879}\n",
            "accuracy: 0.9603174328804016\n",
            "{'batch_size': 200.0, 'dropout_cnn_block_one': 0.24217279053896068, 'dropout_cnn_block_three': 0.3863243079451849, 'dropout_cnn_block_two': 0.21914983822458448, 'dropout_dens_block_one': 0.49624695300827026, 'dropout_dens_block_two': 0.5395371672182061}\n",
            "accuracy: 0.9750567078590393\n",
            "{'batch_size': 60.0, 'dropout_cnn_block_one': 0.4989912972967803, 'dropout_cnn_block_three': 0.32728561832675906, 'dropout_cnn_block_two': 0.39545422702729854, 'dropout_dens_block_one': 0.5176427500756972, 'dropout_dens_block_two': 0.6868745583183751}\n",
            "accuracy: 0.9215419292449951\n",
            "{'batch_size': 180.0, 'dropout_cnn_block_one': 0.4118659179606837, 'dropout_cnn_block_three': 0.31048306349673044, 'dropout_cnn_block_two': 0.28429438535489293, 'dropout_dens_block_one': 0.300714570292296, 'dropout_dens_block_two': 0.48439824491993755}\n",
            "accuracy: 0.9680272340774536\n",
            "{'batch_size': 60.0, 'dropout_cnn_block_one': 0.24540405477953778, 'dropout_cnn_block_three': 0.3722563690304661, 'dropout_cnn_block_two': 0.4217940663083596, 'dropout_dens_block_one': 0.4096505007584421, 'dropout_dens_block_two': 0.5662274801097011}\n",
            "accuracy: 0.956462562084198\n",
            "{'batch_size': 120.0, 'dropout_cnn_block_one': 0.28305221303891404, 'dropout_cnn_block_three': 0.37093374799865786, 'dropout_cnn_block_two': 0.3693602239400809, 'dropout_dens_block_one': 0.5121902356146267, 'dropout_dens_block_two': 0.4186981623362366}\n",
            "accuracy: 0.9646258354187012\n",
            "{'batch_size': 100.0, 'dropout_cnn_block_one': 0.41507284752459594, 'dropout_cnn_block_three': 0.2515202608295803, 'dropout_cnn_block_two': 0.21999361244012375, 'dropout_dens_block_one': 0.4081088296799496, 'dropout_dens_block_two': 0.36134329309971447}\n",
            "accuracy: 0.9671201705932617\n",
            "{'batch_size': 200.0, 'dropout_cnn_block_one': 0.35239880673220336, 'dropout_cnn_block_three': 0.4797272033935921, 'dropout_cnn_block_two': 0.23159749662400422, 'dropout_dens_block_one': 0.5037214208645014, 'dropout_dens_block_two': 0.45878201033737515}\n",
            "accuracy: 0.9591836929321289\n",
            "{'batch_size': 160.0, 'dropout_cnn_block_one': 0.4712223951187589, 'dropout_cnn_block_three': 0.20654625245216154, 'dropout_cnn_block_two': 0.2620960154134089, 'dropout_dens_block_one': 0.6432517754666899, 'dropout_dens_block_two': 0.5648548863778753}\n",
            "accuracy: 0.9580498933792114\n",
            "{'batch_size': 160.0, 'dropout_cnn_block_one': 0.3850208154384997, 'dropout_cnn_block_three': 0.4888633335827222, 'dropout_cnn_block_two': 0.3349602000088364, 'dropout_dens_block_one': 0.4158253916845944, 'dropout_dens_block_two': 0.5718835323404741}\n",
            "accuracy: 0.9539682269096375\n",
            "{'batch_size': 200.0, 'dropout_cnn_block_one': 0.38095443335698675, 'dropout_cnn_block_three': 0.4907649162476819, 'dropout_cnn_block_two': 0.28292515090836867, 'dropout_dens_block_one': 0.6042192708549687, 'dropout_dens_block_two': 0.6744473653890023}\n",
            "accuracy: 0.9424036145210266\n",
            "{'batch_size': 180.0, 'dropout_cnn_block_one': 0.369898440805205, 'dropout_cnn_block_three': 0.3659093399520429, 'dropout_cnn_block_two': 0.26930024444156075, 'dropout_dens_block_one': 0.5443941590215613, 'dropout_dens_block_two': 0.44224324200355813}\n",
            "accuracy: 0.9609977602958679\n",
            "{'batch_size': 180.0, 'dropout_cnn_block_one': 0.30986541225076547, 'dropout_cnn_block_three': 0.4424704305888579, 'dropout_cnn_block_two': 0.27966247483920104, 'dropout_dens_block_one': 0.4670399828258543, 'dropout_dens_block_two': 0.5441137519273624}\n",
            "accuracy: 0.9662131667137146\n",
            "100%|██████████| 20/20 [10:09<00:00, 30.50s/it, best loss: -0.9750567078590393]\n"
          ],
          "name": "stdout"
        }
      ]
    },
    {
      "cell_type": "code",
      "metadata": {
        "id": "XQBNGZuVLLtn",
        "colab_type": "code",
        "colab": {}
      },
      "source": [
        ""
      ],
      "execution_count": 0,
      "outputs": []
    }
  ]
}